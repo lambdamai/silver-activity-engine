{
 "cells": [
  {
   "cell_type": "code",
   "execution_count": 1,
   "metadata": {},
   "outputs": [],
   "source": [
    "import numpy as np\n",
    "import math"
   ]
  },
  {
   "cell_type": "code",
   "execution_count": 2,
   "metadata": {},
   "outputs": [],
   "source": []
  },
  {
   "cell_type": "code",
   "execution_count": 36,
   "metadata": {},
   "outputs": [],
   "source": [
    "def huff(A, B):\n",
    "    def d(x_1,x_2,y_1,y_2):\n",
    "        return math.hypot(x_1-x_2, y_1-y_2)\n",
    "    \n",
    "    for a in A:\n",
    "        a['volume'] = 0\n",
    "\n",
    "    while B:\n",
    "        b = B.pop()\n",
    "        D = [d(a['lat'], b['lat'], a['lng'], b['lng']) for a in A]\n",
    "        A[D.index(min(D))]['volume'] += b['volume']\n",
    "    \n",
    "    points = [(a['lat'], a['lng'], a['volume']) for a in A]\n",
    "    \n",
    "    lat_min = min(points, key=lambda x: x[0])[0]\n",
    "    lng_min = min(points, key=lambda x: x[1])[1]\n",
    "    lat_d = max(points, key=lambda x: x[0])[0] - lat_min\n",
    "    lng_d = max(points, key=lambda x: x[1])[1] - lng_min\n",
    "\n",
    "    points = [((p[0]-lat_min)/lat_d,(p[1]-lng_min)/lng_d, p[2])  for p in points]\n",
    "    \n",
    "    data = []\n",
    "    for _ in points:\n",
    "        data.append({})\n",
    "    \n",
    "\n",
    "    for (i, (x_t, y_t, s_t)) in enumerate(points):\n",
    "        for y in np.arange(-0.2, 1.2, 0.05):\n",
    "            for x in np.arange(-0.2, 1.2, 0.05):\n",
    "                data[i][x, y] = (s_t/d(x_t, x, y_t, y))/sum(s1/d(x, x1, y, y1) for (y1,x1,s1) in points)\n",
    "    ret = []\n",
    "    for e in data:\n",
    "        ret.append(sum(e.values()))\n",
    "    return ret"
   ]
  },
  {
   "cell_type": "code",
   "execution_count": 37,
   "metadata": {},
   "outputs": [
    {
     "ename": "TypeError",
     "evalue": "huff() missing 1 required positional argument: 'B'",
     "output_type": "error",
     "traceback": [
      "\u001b[1;31m---------------------------------------------------------------------------\u001b[0m",
      "\u001b[1;31mTypeError\u001b[0m                                 Traceback (most recent call last)",
      "\u001b[1;32m<ipython-input-37-6b912f4b5113>\u001b[0m in \u001b[0;36m<module>\u001b[1;34m\u001b[0m\n\u001b[1;32m----> 1\u001b[1;33m \u001b[0mhuff\u001b[0m\u001b[1;33m(\u001b[0m\u001b[0mpoints\u001b[0m\u001b[1;33m)\u001b[0m\u001b[1;33m\u001b[0m\u001b[1;33m\u001b[0m\u001b[0m\n\u001b[0m",
      "\u001b[1;31mTypeError\u001b[0m: huff() missing 1 required positional argument: 'B'"
     ]
    }
   ],
   "source": [
    "huff(points)"
   ]
  },
  {
   "cell_type": "code",
   "execution_count": 34,
   "metadata": {},
   "outputs": [],
   "source": [
    "A = [     \n",
    "    {'lat': 55.755833, 'lng': 37.61777},\n",
    "    {'lat': 55.7522222, 'lng': 37.59111111},\n",
    "    {'lat': 55.75186, 'lng': 37.596605} ]\n",
    "\n",
    "B = [\n",
    "    {'lat': 55.755833333333, 'lng': 37.617777777778, 'volume': 0.5883210600869414},\n",
    "    {'lat': 55.752222222222, 'lng': 37.591111111111, 'volume': 0.40073001754946935},\n",
    "    {'lat': 55.751862078329, 'lng': 37.596605503987, 'volume': 0.4787902965492521},\n",
    "]\n",
    "\n",
    "def d(x_1,x_2,y_1,y_2):\n",
    "    return math.hypot(x_1-x_2, y_1-y_2)\n",
    "\n",
    "for a in A:\n",
    "    a['volume'] = 0\n",
    "\n",
    "while B:\n",
    "    b = B.pop()\n",
    "    D = [d(a['lat'], b['lat'], a['lng'], b['lng']) for a in A]\n",
    "    A[D.index(min(D))]['volume'] += b['volume']\n",
    "    \n",
    "points = [(a['lat'], a['lng'], a['volume']) for a in A]\n",
    "\n",
    "lat_min = min(points, key=lambda x: x[0])[0]\n",
    "lng_min = min(points, key=lambda x: x[1])[1]\n",
    "lat_d = max(points, key=lambda x: x[0])[0] - lat_min\n",
    "lng_d = max(points, key=lambda x: x[1])[1] - lng_min\n",
    "\n",
    "points = [((p[0]-lat_min)/lat_d,(p[1]-lng_min)/lng_d, p[2])  for p in points]\n"
   ]
  },
  {
   "cell_type": "code",
   "execution_count": 35,
   "metadata": {},
   "outputs": [
    {
     "name": "stdout",
     "output_type": "stream",
     "text": [
      "[(1.0, 1.0, 0.5883210600869414), (0.09116536622141636, 0.0, 0.40073001754946935), (0.0, 0.20608097336373488, 0.4787902965492521)]\n"
     ]
    }
   ],
   "source": [
    "print(points)"
   ]
  },
  {
   "cell_type": "code",
   "execution_count": null,
   "metadata": {},
   "outputs": [],
   "source": []
  }
 ],
 "metadata": {
  "kernelspec": {
   "display_name": "Python 3",
   "language": "python",
   "name": "python3"
  },
  "language_info": {
   "codemirror_mode": {
    "name": "ipython",
    "version": 3
   },
   "file_extension": ".py",
   "mimetype": "text/x-python",
   "name": "python",
   "nbconvert_exporter": "python",
   "pygments_lexer": "ipython3",
   "version": "3.7.2"
  }
 },
 "nbformat": 4,
 "nbformat_minor": 2
}
