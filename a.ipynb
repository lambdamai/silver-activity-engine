{
 "cells": [
  {
   "cell_type": "code",
   "execution_count": 1,
   "metadata": {},
   "outputs": [],
   "source": [
    "import numpy as np\n",
    "import math"
   ]
  },
  {
   "cell_type": "code",
   "execution_count": 2,
   "metadata": {},
   "outputs": [],
   "source": [
    "sp = (55, 37)\n",
    "points = [\n",
    "    (55.378 - sp[0], 37.120 - sp[1], 300 + 0.5 * 200),\n",
    "    (55.809 - sp[0], 37.550 - sp[1], 200 + 0.5 * 300),\n",
    "    (55.478 - sp[0], 37.760 - sp[1], 500 + 0.5 * 108)\n",
    "]"
   ]
  },
  {
   "cell_type": "code",
   "execution_count": 3,
   "metadata": {},
   "outputs": [],
   "source": [
    "def huff(points):\n",
    "    data = []\n",
    "    for _ in points:\n",
    "        data.append({})\n",
    "    \n",
    "    def d(x_1,x_2,y_1,y_2):\n",
    "        return math.hypot(x_1-x_2, y_1-y_2)\n",
    "\n",
    "    for (i, (x_t, y_t, s_t)) in enumerate(points):\n",
    "        for y in np.arange(-1, 2, 0.05):\n",
    "            for x in np.arange(-1, 2, 0.05):\n",
    "                data[i][x, y] = (s_t/d(x_t, x, y_t, y))/sum(s1/d(x, x1, y, y1) for (y1,x1,s1) in points)\n",
    "    ret = []\n",
    "    for e in data:\n",
    "        ret.append(sum(e.values()))\n",
    "    return ret"
   ]
  },
  {
   "cell_type": "code",
   "execution_count": 4,
   "metadata": {},
   "outputs": [
    {
     "data": {
      "text/plain": [
       "[1158.701933656236, 964.6622607154469, 1525.7693282172966]"
      ]
     },
     "execution_count": 4,
     "metadata": {},
     "output_type": "execute_result"
    }
   ],
   "source": [
    "huff(points)"
   ]
  },
  {
   "cell_type": "code",
   "execution_count": null,
   "metadata": {},
   "outputs": [],
   "source": []
  }
 ],
 "metadata": {
  "kernelspec": {
   "display_name": "Python 3",
   "language": "python",
   "name": "python3"
  },
  "language_info": {
   "codemirror_mode": {
    "name": "ipython",
    "version": 3
   },
   "file_extension": ".py",
   "mimetype": "text/x-python",
   "name": "python",
   "nbconvert_exporter": "python",
   "pygments_lexer": "ipython3",
   "version": "3.7.2"
  }
 },
 "nbformat": 4,
 "nbformat_minor": 2
}
